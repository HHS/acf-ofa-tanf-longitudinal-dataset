{
 "cells": [
  {
   "cell_type": "code",
   "execution_count": null,
   "id": "fb6871c4-766f-408a-85df-f083bdbaf26f",
   "metadata": {},
   "outputs": [],
   "source": [
    "import json\n",
    "import os\n",
    "\n",
    "\n",
    "import ipywidgets as widgets\n",
    "from IPython.display import display, clear_output\n",
    "import plotly.express as px\n",
    "from pandas import DataFrame\n",
    "\n",
    "\n",
    "from otld import combine_appended_files\n",
    "from otld.paths import input_dir\n",
    "from otld.utils.string_utils import standardize_line_number"
   ]
  },
  {
   "cell_type": "code",
   "execution_count": null,
   "id": "7ed47664-97d5-4e23-9bcc-ef87630e2f94",
   "metadata": {},
   "outputs": [],
   "source": [
    "federal, state = combine_appended_files.main()\n",
    "crosswalk = json.load(open(os.path.join(input_dir, \"column_dict_196.json\")))\n",
    "crosswalk = {standardize_line_number(key): value for key, value in crosswalk.items()}"
   ]
  },
  {
   "cell_type": "code",
   "execution_count": null,
   "id": "91ac537c",
   "metadata": {},
   "outputs": [],
   "source": [
    "federal.head()"
   ]
  },
  {
   "cell_type": "code",
   "execution_count": null,
   "id": "47bb0cf0",
   "metadata": {},
   "outputs": [],
   "source": [
    "state.head()"
   ]
  },
  {
   "cell_type": "code",
   "execution_count": null,
   "id": "1f3a813d",
   "metadata": {},
   "outputs": [],
   "source": [
    "def get_data(level: str) -> DataFrame:\n",
    "    return globals()[level]"
   ]
  },
  {
   "cell_type": "code",
   "execution_count": null,
   "id": "65e7d6d4",
   "metadata": {},
   "outputs": [],
   "source": [
    "def longitudinal_line_one_col(df: str, state: str | list[str], column: str):\n",
    "    \"\"\"Line graphs of a single variable longitudinally, by state\n",
    "\n",
    "    Args:\n",
    "        df (str): _description_\n",
    "        state (str | list[str]): _description_\n",
    "        column (str): _description_\n",
    "\n",
    "    Returns:\n",
    "        _type_: _description_\n",
    "    \"\"\"\n",
    "\n",
    "    df = df.lower()\n",
    "\n",
    "    df = get_data(df).copy()\n",
    "\n",
    "    if isinstance(state, str):\n",
    "\n",
    "\n",
    "        df = df[df[\"STATE\"] == state]\n",
    "    elif isinstance(state, (list, tuple)):\n",
    "\n",
    "\n",
    "        df = df[df[\"STATE\"].isin(state)]\n",
    "\n",
    "\n",
    "    df.loc[:, \"STATE\"] = df.loc[:, \"STATE\"].map(lambda x: x.title())\n",
    "\n",
    "\n",
    "    fig = px.line(\n",
    "        df,\n",
    "\n",
    "        \"year\",\n",
    "        column,\n",
    "        color=\"STATE\",\n",
    "\n",
    "        labels={\"year\": \"Year\", column: crosswalk[column], \"STATE\": \"State\"},\n",
    "        range_x=[],\n",
    "    )\n",
    "\n",
    "\n",
    "    fig.update_layout(xaxis={\"dtick\": 1})\n",
    "\n",
    "    # fig.show()\n",
    "\n",
    "    return fig"
   ]
  },
  {
   "cell_type": "code",
   "execution_count": null,
   "id": "56e7993a",
   "metadata": {},
   "outputs": [],
   "source": [
    "def within_year_bar(df: str, state: str, year: int, column: str | list[str] = None):\n",
    "    df = df.lower()\n",
    "    df = get_data(df).copy()\n",
    "\n",
    "    df = df[(df[\"STATE\"] == state) & (df[\"year\"] == year)]\n",
    "    if column:\n",
    "        df = df[column]\n",
    "    else:\n",
    "        df.drop([\"STATE\", \"year\"], axis=1, inplace=True)\n",
    "\n",
    "    df = df.rename(columns=crosswalk)\n",
    "    df = df.melt()\n",
    "\n",
    "    fig = px.bar(\n",
    "        df,\n",
    "        \"variable\",\n",
    "        \"value\",\n",
    "        labels={\"value\": \"$Amount\", \"variable\": \"Line\"},\n",
    "        title=f\"Line Values for {state.title()} in {year}\",\n",
    "    )\n",
    "\n",
    "    return fig"
   ]
  },
  {
   "cell_type": "code",
   "execution_count": null,
   "id": "d92168d2",
   "metadata": {},
   "outputs": [],
   "source": [
    "def longitudinal_line_within_state(df: str, state: str, column: str | list[str]):\n",
    "    df = df.lower()\n",
    "    df = get_data(df).copy()\n",
    "\n",
    "    df = df[df[\"STATE\"] == state]\n",
    "    if column:\n",
    "        if isinstance(column, str):\n",
    "            column = [column]\n",
    "\n",
    "        column.append(\"year\")\n",
    "\n",
    "        df = df[column]\n",
    "    else:\n",
    "        df.drop([\"STATE\"], axis=1, inplace=True)\n",
    "\n",
    "    df = df.rename(columns=crosswalk)\n",
    "    df = df.melt(id_vars=[\"year\"])\n",
    "\n",
    "    fig = px.line(\n",
    "        df,\n",
    "        \"year\",\n",
    "        \"value\",\n",
    "        color=\"variable\",\n",
    "        labels={\"year\": \"Year\", \"value\": \"$Amount\", \"variable\": \"Line\"},\n",
    "    )\n",
    "\n",
    "    return fig"
   ]
  },
  {
   "cell_type": "code",
   "execution_count": null,
   "id": "8e4e0790",
   "metadata": {},
   "outputs": [],
   "source": [
    "def display_line(func, state, column):\n",
    "    display(\n",
    "        widgets.VBox(\n",
    "            [\n",
    "                widgets.HBox([state, column]),\n",
    "                func(df=federal, state=state.value, column=column.value),\n",
    "            ]\n",
    "        )\n",
    "    )"
   ]
  },
  {
   "cell_type": "code",
   "execution_count": null,
   "id": "e6b717f8",
   "metadata": {},
   "outputs": [],
   "source": [
    "state_select = widgets.SelectMultiple(\n",
    "    options=federal[\"STATE\"].unique(), value=[\"U.S. TOTAL\"]\n",
    ")\n",
    "column_dropdown = widgets.Dropdown(options=federal.columns.to_list(), value=\"5\")\n",
    "df_select = widgets.Dropdown(options=[\"State\", \"Federal\"], value=\"State\")\n",
    "year_dropdown = widgets.Dropdown(options=federal[\"year\"].unique().tolist(), value=1997)"
   ]
  },
  {
   "cell_type": "code",
   "execution_count": null,
   "id": "0a47dda8",
   "metadata": {},
   "outputs": [],
   "source": [
    "widgets_output = widgets.Output()\n",
    "display(widgets_output)\n",
    "\n",
    "widgets_hbox = widgets.HBox([df_select, state_select, column_dropdown])\n",
    "widgets_output.append_display_data(widgets_hbox)\n",
    "\n",
    "graph_output = widgets.Output()\n",
    "display(graph_output)\n",
    "\n",
    "\n",
    "def handle_change(change):\n",
    "    with graph_output:\n",
    "        clear_output()\n",
    "        fig = longitudinal_line_one_col(\n",
    "            df_select.value, state_select.value, column_dropdown.value\n",
    "        )\n",
    "        fig.show()\n",
    "\n",
    "\n",
    "df_select.observe(handle_change, names=\"value\")\n",
    "state_select.observe(handle_change, names=\"value\")\n",
    "column_dropdown.observe(handle_change, names=\"value\")"
   ]
  },
  {
   "cell_type": "code",
   "execution_count": null,
   "id": "f745430e",
   "metadata": {},
   "outputs": [],
   "source": [
    "hbox_map = {\n",
    "    \"Longitudinal Line Chart One Column\": widgets.HBox(\n",
    "        [df_select, state_select, column_dropdown]\n",
    "    ),\n",
    "    \"Within-year Bar Chart Multiple Columns\": widgets.HBox(\n",
    "        [df_select, state_select, year_dropdown]\n",
    "    ),\n",
    "}\n",
    "\n",
    "\n",
    "def create_hbox(graph: str):\n",
    "    return hbox_map[graph]\n",
    "\n",
    "\n",
    "def render_controller(change):\n",
    "    widgets_hbox = create_hbox(change[\"new\"])\n",
    "    output = widgets.Output()\n",
    "    output.append_display_data(widgets_hbox)\n",
    "    display(output)\n",
    "\n",
    "\n",
    "hbox_options = list(hbox_map.keys())\n",
    "hbox_options = [\"None\"] + hbox_options\n",
    "hbox_dropdown = widgets.Dropdown(options=hbox_options, value=\"None\")\n",
    "hbox_dropdown.observe(render_controller, names=\"value\")"
   ]
  },
  {
   "cell_type": "code",
   "execution_count": null,
   "id": "2d4c681a",
   "metadata": {},
   "outputs": [],
   "source": [
    "hbox_dropdown"
   ]
  },
  {
   "cell_type": "code",
   "execution_count": null,
   "id": "d34b3822",
   "metadata": {},
   "outputs": [],
   "source": [
    "# Pie chart with all spending categories (or perhaps something a bit easier to read such as a heatmap or treemap)\n",
    "# See for pie chart: https://www.acf.hhs.gov/ofa/data/state-tanf-spending-fy-2015\n",
    "# See for example: https://www.google.com/url?sa=t&rct=j&q=&esrc=s&source=web&cd=&cad=rja&uact=8&ved=2ahUKEwiX7a2p5NeJAxXkEVkFHVI_B7gQFnoECBoQAQ&url=https%3A%2F%2Fplotly.com%2Fpython%2Ftreemaps%2F&usg=AOvVaw1knfxnZhojhAoZf0IC3oOF&opi=89978449"
   ]
  }
 ],
 "metadata": {
  "kernelspec": {
   "display_name": ".graphics",
   "language": "python",
   "name": "python3"
  },
  "language_info": {
   "codemirror_mode": {
    "name": "ipython",
    "version": 3
   },
   "file_extension": ".py",
   "mimetype": "text/x-python",
   "name": "python",
   "nbconvert_exporter": "python",
   "pygments_lexer": "ipython3",
   "version": "3.12.1"
  }
 },
 "nbformat": 4,
 "nbformat_minor": 5
}
