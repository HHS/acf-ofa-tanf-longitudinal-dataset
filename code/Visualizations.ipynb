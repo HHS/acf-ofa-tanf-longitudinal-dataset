{
 "cells": [
  {
   "cell_type": "code",
   "execution_count": null,
   "id": "fb6871c4-766f-408a-85df-f083bdbaf26f",
   "metadata": {},
   "outputs": [],
   "source": [
    "import json\n",
    "import os\n",
    "\n",
    "\n",
    "import ipywidgets as widgets\n",
    "from IPython.display import display, clear_output\n",
    "import plotly.express as px\n",
    "from pandas import DataFrame\n",
    "\n",
    "\n",
    "from otld import combine_appended_files\n",
    "from otld.paths import input_dir\n",
    "from otld.utils.string_utils import standardize_line_number"
   ]
  },
  {
   "cell_type": "code",
   "execution_count": null,
   "id": "7ed47664-97d5-4e23-9bcc-ef87630e2f94",
   "metadata": {},
   "outputs": [],
   "source": [
    "federal, state = combine_appended_files.main()\n",
    "crosswalk = json.load(open(os.path.join(input_dir, \"column_dict_196.json\")))\n",
    "crosswalk = {standardize_line_number(key): value for key, value in crosswalk.items()}\n",
    "crosswalk.update({\"5b\": \"Assistance: Child Care\", \"6b\": \"Non-assistance: Child Care\"})"
   ]
  },
  {
   "cell_type": "code",
   "execution_count": null,
   "id": "91ac537c",
   "metadata": {},
   "outputs": [],
   "source": [
    "federal.head()"
   ]
  },
  {
   "cell_type": "code",
   "execution_count": null,
   "id": "47bb0cf0",
   "metadata": {},
   "outputs": [],
   "source": [
    "state.head()"
   ]
  },
  {
   "cell_type": "code",
   "execution_count": null,
   "id": "1f3a813d",
   "metadata": {},
   "outputs": [],
   "source": [
    "def get_data(level: str) -> DataFrame:\n",
    "    return globals()[level]"
   ]
  },
  {
   "cell_type": "code",
   "execution_count": null,
   "id": "65e7d6d4",
   "metadata": {},
   "outputs": [],
   "source": [
    "def longitudinal_line_one_col(df: str, state: str | list[str], column: str):\n",
    "    \"\"\"Line graphs of a single variable longitudinally, by state\n",
    "\n",
    "    Args:\n",
    "        df (str): _description_\n",
    "        state (str | list[str]): _description_\n",
    "        column (str): _description_\n",
    "\n",
    "    Returns:\n",
    "        _type_: _description_\n",
    "    \"\"\"\n",
    "\n",
    "    df = df.lower()\n",
    "\n",
    "    df = get_data(df).copy()\n",
    "\n",
    "    if isinstance(state, str):\n",
    "\n",
    "\n",
    "        df = df[df[\"STATE\"] == state]\n",
    "    elif isinstance(state, (list, tuple)):\n",
    "\n",
    "\n",
    "        df = df[df[\"STATE\"].isin(state)]\n",
    "\n",
    "\n",
    "    df.loc[:, \"STATE\"] = df.loc[:, \"STATE\"].map(lambda x: x.title())\n",
    "\n",
    "\n",
    "    fig = px.line(\n",
    "        df,\n",
    "\n",
    "        \"year\",\n",
    "        column,\n",
    "        color=\"STATE\",\n",
    "        labels={\"year\": \"Year\", column: crosswalk[column], \"STATE\": \"State\"},\n",
    "        range_x=[],\n",
    "    )\n",
    "\n",
    "\n",
    "    fig.update_layout(xaxis={\"dtick\": 1})\n",
    "\n",
    "    # fig.show()\n",
    "\n",
    "    return fig"
   ]
  },
  {
   "cell_type": "code",
   "execution_count": null,
   "id": "56e7993a",
   "metadata": {},
   "outputs": [],
   "source": [
    "def within_year_bar(df: str, state: str, year: int, column: str | list[str] = None):\n",
    "    df = df.lower()\n",
    "    df = get_data(df).copy()\n",
    "\n",
    "    df = df[(df[\"STATE\"] == state) & (df[\"year\"] == year)]\n",
    "    if column:\n",
    "        df = df[column]\n",
    "    else:\n",
    "        df.drop([\"STATE\", \"year\"], axis=1, inplace=True)\n",
    "\n",
    "    df = df.rename(columns=crosswalk)\n",
    "    df = df.melt()\n",
    "\n",
    "    fig = px.bar(\n",
    "        df,\n",
    "        \"variable\",\n",
    "        \"value\",\n",
    "        labels={\"value\": \"$Amount\", \"variable\": \"Line\"},\n",
    "        title=f\"Line Values for {state.title()} in {year}\",\n",
    "    )\n",
    "\n",
    "    return fig"
   ]
  },
  {
   "cell_type": "code",
   "execution_count": null,
   "id": "d92168d2",
   "metadata": {},
   "outputs": [],
   "source": [
    "def longitudinal_line_within_state(df: str, state: str, column: str | list[str]):\n",
    "    df = df.lower()\n",
    "    df = get_data(df).copy()\n",
    "\n",
    "    df = df[df[\"STATE\"] == state]\n",
    "    if column:\n",
    "        if isinstance(column, str):\n",
    "            column = [column]\n",
    "\n",
    "        column.append(\"year\")\n",
    "\n",
    "        df = df[column]\n",
    "    else:\n",
    "        df.drop([\"STATE\"], axis=1, inplace=True)\n",
    "\n",
    "    df = df.rename(columns=crosswalk)\n",
    "    df = df.melt(id_vars=[\"year\"])\n",
    "\n",
    "    fig = px.line(\n",
    "        df,\n",
    "        \"year\",\n",
    "        \"value\",\n",
    "        color=\"variable\",\n",
    "        labels={\"year\": \"Year\", \"value\": \"$Amount\", \"variable\": \"Line\"},\n",
    "    )\n",
    "\n",
    "    return fig"
   ]
  },
  {
   "cell_type": "code",
   "execution_count": null,
   "id": "8e4e0790",
   "metadata": {},
   "outputs": [],
   "source": [
    "def display_line(func, state, column):\n",
    "    display(\n",
    "        widgets.VBox(\n",
    "            [\n",
    "                widgets.HBox([state, column]),\n",
    "                func(df=federal, state=state.value, column=column.value),\n",
    "            ]\n",
    "        )\n",
    "    )"
   ]
  },
  {
   "cell_type": "code",
   "execution_count": null,
   "id": "15b4509b",
   "metadata": {},
   "outputs": [],
   "source": [
    "def within_year_treemap(df: str, state: str, year: int, column: list[str] = None):\n",
    "    df = df.lower()\n",
    "    df = get_data(df).copy()\n",
    "\n",
    "    if column:\n",
    "        column = [\"year\", \"STATE\"] + column\n",
    "        df = df[column]\n",
    "\n",
    "    df = df.melt(id_vars=[\"year\", \"STATE\"])\n",
    "    df = df.fillna(0)\n",
    "    df = df[(df[\"year\"] == year) & (df[\"STATE\"] == state)]\n",
    "    df[\"variable\"] = df.variable.map(crosswalk)\n",
    "    df = df.sort_values(by=[\"variable\"])\n",
    "\n",
    "    fig = px.treemap(df, path=[\"year\", \"STATE\", \"variable\"], values=\"value\")\n",
    "    fig.data[0].customdata = df.value.tolist()\n",
    "    fig.data[0].texttemplate = \"%{label}<br>Amount: $%{customdata:,}\"\n",
    "\n",
    "    return fig"
   ]
  },
  {
   "cell_type": "code",
   "execution_count": null,
   "id": "e536769f",
   "metadata": {},
   "outputs": [],
   "source": [
    "def cross_state_treemap(df: str, year: int, column: str):\n",
    "    df = df.lower()\n",
    "    df = get_data(df).copy()\n",
    "\n",
    "    df = df[df[\"year\"] == year]\n",
    "    df = df[[\"year\", \"STATE\", column]]\n",
    "    df = df.fillna(0)\n",
    "    df = df.sort_values(by=[\"STATE\"])\n",
    "\n",
    "    fig = px.treemap(\n",
    "        df,\n",
    "        path=[\"year\", \"STATE\"],\n",
    "        values=column,\n",
    "        title=f\"Comparison of {crosswalk[column]} in {year}\",\n",
    "    )\n",
    "    fig.data[0].customdata = df[column].tolist()\n",
    "    fig.data[0].texttemplate = \"%{label}<br>Amount: $%{customdata:,}\"\n",
    "\n",
    "    return fig"
   ]
  },
  {
   "cell_type": "code",
   "execution_count": null,
   "id": "9444fffc",
   "metadata": {},
   "outputs": [],
   "source": [
    "cross_state_treemap(\"federal\", 200, \"1\")"
   ]
  },
  {
   "cell_type": "code",
   "execution_count": null,
   "id": "e6b717f8",
   "metadata": {},
   "outputs": [],
   "source": [
    "state_select = widgets.SelectMultiple(\n",
    "    options=federal[\"STATE\"].unique(), value=[\"U.S. TOTAL\"]\n",
    ")\n",
    "column_dropdown = widgets.Dropdown(options=federal.columns.to_list(), value=\"5\")\n",
    "df_select = widgets.Dropdown(options=[\"State\", \"Federal\"], value=\"State\")\n",
    "year_dropdown = widgets.Dropdown(options=federal[\"year\"].unique().tolist(), value=1997)"
   ]
  },
  {
   "cell_type": "code",
   "execution_count": null,
   "id": "f745430e",
   "metadata": {},
   "outputs": [],
   "source": [
    "hbox_map = {\n",
    "    \"Longitudinal Line Chart One Column\": [\n",
    "        widgets.HBox([df_select, state_select, column_dropdown]),\n",
    "        longitudinal_line_one_col,\n",
    "    ],\n",
    "    \"Within-year Bar Chart Multiple Columns\": [\n",
    "        widgets.HBox([df_select, state_select, year_dropdown]),\n",
    "        within_year_bar,\n",
    "    ],\n",
    "}\n",
    "\n",
    "hbox_options = list(hbox_map.keys())\n",
    "hbox_options = [\"None\"] + hbox_options\n",
    "hbox_dropdown = widgets.Dropdown(options=hbox_options, value=\"None\")"
   ]
  },
  {
   "cell_type": "code",
   "execution_count": null,
   "id": "ac138c31",
   "metadata": {},
   "outputs": [],
   "source": [
    "graph_output = widgets.Output()\n",
    "\n",
    "\n",
    "def update_change_handler(graph: str):\n",
    "    func = hbox_map[graph][1]\n",
    "\n",
    "    def handler(change):\n",
    "        with graph_output:\n",
    "            clear_output()\n",
    "            fig = func(df_select.value, state_select.value, column_dropdown.value)\n",
    "            fig.show()\n",
    "\n",
    "    return handler"
   ]
  },
  {
   "cell_type": "code",
   "execution_count": null,
   "id": "8afd6153",
   "metadata": {},
   "outputs": [],
   "source": [
    "def create_hbox(graph: str):\n",
    "    return hbox_map[graph][0]\n",
    "\n",
    "\n",
    "def render_controller(change):\n",
    "    widgets_hbox = create_hbox(change[\"new\"])\n",
    "    output = widgets.Output()\n",
    "    output.append_display_data(widgets_hbox)\n",
    "    display(output)\n",
    "\n",
    "    handle_change = update_change_handler(change[\"new\"])\n",
    "\n",
    "    df_select.observe(handle_change, names=\"value\")\n",
    "    state_select.observe(handle_change, names=\"value\")\n",
    "    column_dropdown.observe(handle_change, names=\"value\")\n",
    "\n",
    "    display(graph_output)\n",
    "\n",
    "\n",
    "hbox_dropdown.observe(render_controller, names=\"value\")\n",
    "display(hbox_dropdown)"
   ]
  },
  {
   "cell_type": "code",
   "execution_count": null,
   "id": "1b6c0e72",
   "metadata": {},
   "outputs": [],
   "source": [
    "handle_change = update_change_handler(\"Longitudinal Line Chart One Column\")"
   ]
  },
  {
   "cell_type": "code",
   "execution_count": null,
   "id": "70e47187",
   "metadata": {},
   "outputs": [],
   "source": [
    "# widgets_output = widgets.Output()\n",
    "# display(widgets_output)\n",
    "\n",
    "# widgets_hbox = widgets.HBox([df_select, state_select, column_dropdown])\n",
    "# widgets_output.append_display_data(widgets_hbox)\n",
    "\n",
    "hbox_dropdown.observe(render_controller, names=\"value\")\n",
    "df_select.observe(handle_change, names=\"value\")\n",
    "state_select.observe(handle_change, names=\"value\")\n",
    "column_dropdown.observe(handle_change, names=\"value\")\n",
    "\n",
    "display(hbox_dropdown)\n",
    "display(graph_output)"
   ]
  }
 ],
 "metadata": {
  "kernelspec": {
   "display_name": ".graphics",
   "language": "python",
   "name": "python3"
  },
  "language_info": {
   "codemirror_mode": {
    "name": "ipython",
    "version": 3
   },
   "file_extension": ".py",
   "mimetype": "text/x-python",
   "name": "python",
   "nbconvert_exporter": "python",
   "pygments_lexer": "ipython3",
   "version": "3.12.1"
  }
 },
 "nbformat": 4,
 "nbformat_minor": 5
}
