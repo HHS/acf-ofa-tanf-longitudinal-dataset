{
 "cells": [
  {
   "cell_type": "code",
   "execution_count": null,
   "id": "fb6871c4-766f-408a-85df-f083bdbaf26f",
   "metadata": {},
   "outputs": [],
   "source": [
    "import json\n",
    "import os\n",
    "\n",
    "\n",
    "import ipywidgets as widgets\n",
    "from IPython.display import display, clear_output\n",
    "import plotly.express as px\n",
    "from pandas import DataFrame\n",
    "\n",
    "\n",
    "from otld import combine_appended_files\n",
    "from otld.paths import input_dir"
   ]
  },
  {
   "cell_type": "code",
   "execution_count": null,
   "id": "7ed47664-97d5-4e23-9bcc-ef87630e2f94",
   "metadata": {},
   "outputs": [],
   "source": [
    "federal, state = combine_appended_files.main()\n",
    "crosswalk = json.load(open(os.path.join(input_dir, \"column_dict_196.json\")))"
   ]
  },
  {
   "cell_type": "code",
   "execution_count": null,
   "id": "91ac537c",
   "metadata": {},
   "outputs": [],
   "source": [
    "federal.head()"
   ]
  },
  {
   "cell_type": "code",
   "execution_count": null,
   "id": "47bb0cf0",
   "metadata": {},
   "outputs": [],
   "source": [
    "state.head()"
   ]
  },
  {
   "cell_type": "code",
   "execution_count": null,
   "id": "65e7d6d4",
   "metadata": {},
   "outputs": [],
   "source": [
    "def get_data(level: str) -> DataFrame:\n",
    "    return globals()[level]\n",
    "\n",
    "\n",
    "def px_line(df: str, state: str | list[str], column: str):\n",
    "    df = df.lower()\n",
    "    df = get_data(df).copy()\n",
    "\n",
    "    if isinstance(state, str):\n",
    "        df = df[df[\"STATE\"] == state]\n",
    "    elif isinstance(state, (list, tuple)):\n",
    "        df = df[df[\"STATE\"].isin(state)]\n",
    "\n",
    "    df.loc[:, \"STATE\"] = df.loc[:, \"STATE\"].map(lambda x: x.title())\n",
    "\n",
    "    fig = px.line(\n",
    "        df,\n",
    "        \"year\",\n",
    "        column,\n",
    "        color=\"STATE\",\n",
    "        labels={\"year\": \"Year\", column: crosswalk[column], \"STATE\": \"State\"},\n",
    "        range_x=[],\n",
    "    )\n",
    "    fig.update_layout(xaxis={\"dtick\": 1})\n",
    "    # fig.show()\n",
    "\n",
    "    return fig"
   ]
  },
  {
   "cell_type": "code",
   "execution_count": null,
   "id": "8e4e0790",
   "metadata": {},
   "outputs": [],
   "source": [
    "def display_line(func, state, column):\n",
    "    display(\n",
    "        widgets.VBox(\n",
    "            [\n",
    "                widgets.HBox([state, column]),\n",
    "                func(df=federal, state=state.value, column=column.value),\n",
    "            ]\n",
    "        )\n",
    "    )\n",
    "    # display(func(**kwargs))\n",
    "    # return func(**kwargs)"
   ]
  },
  {
   "cell_type": "code",
   "execution_count": null,
   "id": "0a47dda8",
   "metadata": {},
   "outputs": [],
   "source": [
    "state_select = widgets.SelectMultiple(\n",
    "    options=federal[\"STATE\"].unique(), value=[\"U.S. TOTAL\"]\n",
    ")\n",
    "column_dropdown = widgets.Dropdown(options=federal.columns.to_list(), value=\"5\")\n",
    "df_select = widgets.Dropdown(options=[\"State\", \"Federal\"], value=\"State\")\n",
    "\n",
    "widgets_output = widgets.Output()\n",
    "display(widgets_output)\n",
    "\n",
    "line = widgets.HBox([df_select, state_select, column_dropdown])\n",
    "widgets_output.append_display_data(line)\n",
    "\n",
    "graph_output = widgets.Output()\n",
    "display(graph_output)\n",
    "\n",
    "\n",
    "def handle_change(change):\n",
    "    with graph_output:\n",
    "        clear_output()\n",
    "        fig = px_line(df_select.value, state_select.value, column_dropdown.value)\n",
    "        fig.show()\n",
    "\n",
    "\n",
    "df_select.observe(handle_change, names=\"value\")\n",
    "state_select.observe(handle_change, names=\"value\")\n",
    "column_dropdown.observe(handle_change, names=\"value\")"
   ]
  }
 ],
 "metadata": {
  "kernelspec": {
   "display_name": ".graphics",
   "language": "python",
   "name": "python3"
  },
  "language_info": {
   "codemirror_mode": {
    "name": "ipython",
    "version": 3
   },
   "file_extension": ".py",
   "mimetype": "text/x-python",
   "name": "python",
   "nbconvert_exporter": "python",
   "pygments_lexer": "ipython3",
   "version": "3.12.1"
  }
 },
 "nbformat": 4,
 "nbformat_minor": 5
}
